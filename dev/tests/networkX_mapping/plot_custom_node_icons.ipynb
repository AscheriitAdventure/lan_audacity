{
  "cells": [
    {
      "cell_type": "markdown",
      "metadata": {},
      "source": [
        "\n",
        "# Custom node icons\n",
        "\n",
        "Example of using custom icons to represent nodes with matplotlib.\n",
        "\n",
        "Images for node icons courtesy of www.materialui.co\n"
      ]
    },
    {
      "cell_type": "code",
      "execution_count": 1,
      "metadata": {
        "collapsed": false
      },
      "outputs": [
        {
          "ename": "FileNotFoundError",
          "evalue": "[Errno 2] No such file or directory: 'D:\\\\lan_audacity\\\\dev\\\\tests\\\\networkX_mapping\\\\icons\\\\router_black_144x144.png'",
          "output_type": "error",
          "traceback": [
            "\u001b[1;31m---------------------------------------------------------------------------\u001b[0m",
            "\u001b[1;31mFileNotFoundError\u001b[0m                         Traceback (most recent call last)",
            "Cell \u001b[1;32mIn[1], line 13\u001b[0m\n\u001b[0;32m      6\u001b[0m icons \u001b[38;5;241m=\u001b[39m {\n\u001b[0;32m      7\u001b[0m     \u001b[38;5;124m\"\u001b[39m\u001b[38;5;124mrouter\u001b[39m\u001b[38;5;124m\"\u001b[39m: \u001b[38;5;124m\"\u001b[39m\u001b[38;5;124micons/router_black_144x144.png\u001b[39m\u001b[38;5;124m\"\u001b[39m,\n\u001b[0;32m      8\u001b[0m     \u001b[38;5;124m\"\u001b[39m\u001b[38;5;124mswitch\u001b[39m\u001b[38;5;124m\"\u001b[39m: \u001b[38;5;124m\"\u001b[39m\u001b[38;5;124micons/switch_black_144x144.png\u001b[39m\u001b[38;5;124m\"\u001b[39m,\n\u001b[0;32m      9\u001b[0m     \u001b[38;5;124m\"\u001b[39m\u001b[38;5;124mPC\u001b[39m\u001b[38;5;124m\"\u001b[39m: \u001b[38;5;124m\"\u001b[39m\u001b[38;5;124micons/computer_black_144x144.png\u001b[39m\u001b[38;5;124m\"\u001b[39m,\n\u001b[0;32m     10\u001b[0m }\n\u001b[0;32m     12\u001b[0m \u001b[38;5;66;03m# Load images\u001b[39;00m\n\u001b[1;32m---> 13\u001b[0m images \u001b[38;5;241m=\u001b[39m {k: \u001b[43mPIL\u001b[49m\u001b[38;5;241;43m.\u001b[39;49m\u001b[43mImage\u001b[49m\u001b[38;5;241;43m.\u001b[39;49m\u001b[43mopen\u001b[49m\u001b[43m(\u001b[49m\u001b[43mfname\u001b[49m\u001b[43m)\u001b[49m \u001b[38;5;28;01mfor\u001b[39;00m k, fname \u001b[38;5;129;01min\u001b[39;00m icons\u001b[38;5;241m.\u001b[39mitems()}\n\u001b[0;32m     15\u001b[0m \u001b[38;5;66;03m# Generate the computer network graph\u001b[39;00m\n\u001b[0;32m     16\u001b[0m G \u001b[38;5;241m=\u001b[39m nx\u001b[38;5;241m.\u001b[39mGraph()\n",
            "File \u001b[1;32mc:\\Users\\g.tronche\\Documents\\GitHub\\lan_audacity\\code\\.venv\\Lib\\site-packages\\PIL\\Image.py:3469\u001b[0m, in \u001b[0;36mopen\u001b[1;34m(fp, mode, formats)\u001b[0m\n\u001b[0;32m   3466\u001b[0m     filename \u001b[38;5;241m=\u001b[39m os\u001b[38;5;241m.\u001b[39mpath\u001b[38;5;241m.\u001b[39mrealpath(os\u001b[38;5;241m.\u001b[39mfspath(fp))\n\u001b[0;32m   3468\u001b[0m \u001b[38;5;28;01mif\u001b[39;00m filename:\n\u001b[1;32m-> 3469\u001b[0m     fp \u001b[38;5;241m=\u001b[39m \u001b[43mbuiltins\u001b[49m\u001b[38;5;241;43m.\u001b[39;49m\u001b[43mopen\u001b[49m\u001b[43m(\u001b[49m\u001b[43mfilename\u001b[49m\u001b[43m,\u001b[49m\u001b[43m \u001b[49m\u001b[38;5;124;43m\"\u001b[39;49m\u001b[38;5;124;43mrb\u001b[39;49m\u001b[38;5;124;43m\"\u001b[39;49m\u001b[43m)\u001b[49m\n\u001b[0;32m   3470\u001b[0m     exclusive_fp \u001b[38;5;241m=\u001b[39m \u001b[38;5;28;01mTrue\u001b[39;00m\n\u001b[0;32m   3471\u001b[0m \u001b[38;5;28;01melse\u001b[39;00m:\n",
            "\u001b[1;31mFileNotFoundError\u001b[0m: [Errno 2] No such file or directory: 'D:\\\\lan_audacity\\\\dev\\\\tests\\\\networkX_mapping\\\\icons\\\\router_black_144x144.png'"
          ]
        }
      ],
      "source": [
        "import matplotlib.pyplot as plt\n",
        "import networkx as nx\n",
        "import PIL\n",
        "\n",
        "# Image URLs for graph nodes\n",
        "icons = {\n",
        "    \"router\": \"icons/router_black_144x144.png\",\n",
        "    \"switch\": \"icons/switch_black_144x144.png\",\n",
        "    \"PC\": \"icons/computer_black_144x144.png\",\n",
        "}\n",
        "\n",
        "# Load images\n",
        "images = {k: PIL.Image.open(fname) for k, fname in icons.items()}\n",
        "\n",
        "# Generate the computer network graph\n",
        "G = nx.Graph()\n",
        "\n",
        "G.add_node(\"router\", image=images[\"router\"])\n",
        "for i in range(1, 4):\n",
        "    G.add_node(f\"switch_{i}\", image=images[\"switch\"])\n",
        "    for j in range(1, 4):\n",
        "        G.add_node(\"PC_\" + str(i) + \"_\" + str(j), image=images[\"PC\"])\n",
        "\n",
        "G.add_edge(\"router\", \"switch_1\")\n",
        "G.add_edge(\"router\", \"switch_2\")\n",
        "G.add_edge(\"router\", \"switch_3\")\n",
        "for u in range(1, 4):\n",
        "    for v in range(1, 4):\n",
        "        G.add_edge(\"switch_\" + str(u), \"PC_\" + str(u) + \"_\" + str(v))\n",
        "\n",
        "# Get a reproducible layout and create figure\n",
        "pos = nx.spring_layout(G, seed=1734289230)\n",
        "fig, ax = plt.subplots()\n",
        "\n",
        "# Note: the min_source/target_margin kwargs only work with FancyArrowPatch objects.\n",
        "# Force the use of FancyArrowPatch for edge drawing by setting `arrows=True`,\n",
        "# but suppress arrowheads with `arrowstyle=\"-\"`\n",
        "nx.draw_networkx_edges(\n",
        "    G,\n",
        "    pos=pos,\n",
        "    ax=ax,\n",
        "    arrows=True,\n",
        "    arrowstyle=\"-\",\n",
        "    min_source_margin=15,\n",
        "    min_target_margin=15,\n",
        ")\n",
        "\n",
        "# Transform from data coordinates (scaled between xlim and ylim) to display coordinates\n",
        "tr_figure = ax.transData.transform\n",
        "# Transform from display to figure coordinates\n",
        "tr_axes = fig.transFigure.inverted().transform\n",
        "\n",
        "# Select the size of the image (relative to the X axis)\n",
        "icon_size = (ax.get_xlim()[1] - ax.get_xlim()[0]) * 0.025\n",
        "icon_center = icon_size / 2.0\n",
        "\n",
        "# Add the respective image to each node\n",
        "for n in G.nodes:\n",
        "    xf, yf = tr_figure(pos[n])\n",
        "    xa, ya = tr_axes((xf, yf))\n",
        "    # get overlapped axes and plot icon\n",
        "    a = plt.axes([xa - icon_center, ya - icon_center, icon_size, icon_size])\n",
        "    a.imshow(G.nodes[n][\"image\"])\n",
        "    a.axis(\"off\")\n",
        "plt.show()"
      ]
    }
  ],
  "metadata": {
    "kernelspec": {
      "display_name": ".venv",
      "language": "python",
      "name": "python3"
    },
    "language_info": {
      "codemirror_mode": {
        "name": "ipython",
        "version": 3
      },
      "file_extension": ".py",
      "mimetype": "text/x-python",
      "name": "python",
      "nbconvert_exporter": "python",
      "pygments_lexer": "ipython3",
      "version": "3.12.1"
    }
  },
  "nbformat": 4,
  "nbformat_minor": 0
}
